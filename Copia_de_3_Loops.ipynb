{
  "nbformat": 4,
  "nbformat_minor": 0,
  "metadata": {
    "colab": {
      "provenance": [],
      "include_colab_link": true
    },
    "kernelspec": {
      "name": "python3",
      "display_name": "Python 3"
    },
    "language_info": {
      "name": "python"
    }
  },
  "cells": [
    {
      "cell_type": "markdown",
      "metadata": {
        "id": "view-in-github",
        "colab_type": "text"
      },
      "source": [
        "<a href=\"https://colab.research.google.com/github/MichaelDeyid/Ejercicios/blob/main/Copia_de_3_Loops.ipynb\" target=\"_parent\"><img src=\"https://colab.research.google.com/assets/colab-badge.svg\" alt=\"Open In Colab\"/></a>"
      ]
    },
    {
      "cell_type": "markdown",
      "source": [
        "## Exercise 1\n",
        "\n",
        "Write a code that ask the user to enter an integer number every time, and the process will be repeated with more numbers until the user enters a zero.\n",
        "\n",
        "At the end (when the zero is entered), show the amount of numbers entered."
      ],
      "metadata": {
        "id": "6cEQ4HEN4ODA"
      }
    },
    {
      "cell_type": "code",
      "source": [
        "c=1\n",
        "while True :\n",
        "  a=int(input(\"ingrese un número entero: \"))\n",
        "  if a !=0 :\n",
        "    c += 1\n",
        "  else :\n",
        "    c+1\n",
        "    break\n",
        "print(f\"usted ingresó {c} números, incluyendo el cero\")\n"
      ],
      "metadata": {
        "colab": {
          "base_uri": "https://localhost:8080/"
        },
        "id": "tjE_LVtynnwx",
        "outputId": "faf6b94d-2a3a-45ce-c60c-9ce8f39c74f8"
      },
      "execution_count": 8,
      "outputs": [
        {
          "output_type": "stream",
          "name": "stdout",
          "text": [
            "ingrese un número entero: 0\n",
            "usted ingresó 1 números, incluyendo el cero\n"
          ]
        }
      ]
    },
    {
      "cell_type": "markdown",
      "source": [
        "## Exercise 2\n",
        "Use the input() function to ask for the user to enter one integer number. Only if the number is even, it will be accumulated.\n",
        "\n",
        "The program must come to an end if the sum of the numbers surpasses 50 or if the user enters a maximum of 10 numbers."
      ],
      "metadata": {
        "id": "8s-BFauy5BkM"
      }
    },
    {
      "cell_type": "code",
      "source": [
        "c = 0\n",
        "g = 0\n",
        "for a in range(10):\n",
        "    n = int(input(\"Ingrese un número entero: \"))\n",
        "    if n % 2 == 0:\n",
        "        c += n\n",
        "    if c > 50:\n",
        "        break\n",
        "    elif a+1 == 10 :\n",
        "      print(\"usted ya registró un máximo de 10 números\")\n",
        "\n",
        "print(\"Suma total de números pares:\", c )"
      ],
      "metadata": {
        "colab": {
          "base_uri": "https://localhost:8080/"
        },
        "id": "QWOsrKjeqrhw",
        "outputId": "44961e0d-0e29-4742-c4d3-d9d0502e9699"
      },
      "execution_count": 26,
      "outputs": [
        {
          "output_type": "stream",
          "name": "stdout",
          "text": [
            "Ingrese un número entero: 40\n",
            "Ingrese un número entero: 5\n",
            "Ingrese un número entero: 6\n",
            "Ingrese un número entero: 4\n",
            "Ingrese un número entero: 2\n",
            "Suma total de números pares: 52\n"
          ]
        }
      ]
    },
    {
      "cell_type": "markdown",
      "source": [
        "Developed by:\n",
        "\n",
        "- Michael Deyvid Estacio Ramirez - mestacior@unal.edu.co\n"
      ],
      "metadata": {
        "id": "wcgoiWX_4nwL"
      }
    }
  ]
}