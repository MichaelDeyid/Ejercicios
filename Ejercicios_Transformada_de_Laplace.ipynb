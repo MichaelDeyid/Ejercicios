{
  "nbformat": 4,
  "nbformat_minor": 0,
  "metadata": {
    "colab": {
      "provenance": [],
      "authorship_tag": "ABX9TyN8lXImaxoXXvrR+0hlRlEi",
      "include_colab_link": true
    },
    "kernelspec": {
      "name": "python3",
      "display_name": "Python 3"
    },
    "language_info": {
      "name": "python"
    }
  },
  "cells": [
    {
      "cell_type": "markdown",
      "metadata": {
        "id": "view-in-github",
        "colab_type": "text"
      },
      "source": [
        "<a href=\"https://colab.research.google.com/github/MichaelDeyid/Ejercicios/blob/main/Ejercicios_Transformada_de_Laplace.ipynb\" target=\"_parent\"><img src=\"https://colab.research.google.com/assets/colab-badge.svg\" alt=\"Open In Colab\"/></a>"
      ]
    },
    {
      "cell_type": "markdown",
      "source": [
        "Ejercicio Cuaderno 1"
      ],
      "metadata": {
        "id": "KizCr9_GX2tu"
      }
    },
    {
      "cell_type": "markdown",
      "metadata": {
        "id": "0LNqOKrM3Y59"
      },
      "source": [
        "## Representación\n",
        "\n",
        "- La transformada de Laplace $X(s) = \\mathfrak{L} \\{ x(t) \\}$ depende de la frecuencia compleja $s \\in \\mathbb{C}$ y en general $X(s) \\in \\mathbb{C}$. Lo anterior puede ser ilustrado al graficar la magnitud $|X(s)|$ y la fase $\\varphi (s)$, la parte real $\\Re \\{ X(s) \\}$ e imaginaria $\\Im \\{ X(s) \\}$ en el plano complejo $s$. A menudo, los gráficos en 3-D no son muy ilustrativos.\n",
        "\n",
        "- Muchas transformadas de Laplace de interés en la teoría de señales y sistemas son [funciones racionales](https://en.wikipedia.org/wiki/Rational_function) en $s$.\n",
        "\n",
        "- Los polinomios del numerado y del denominador pueden ser representados mediante sus [raices](https://en.wikipedia.org/wiki/Zero_of_a_function#Polynomial_roots) complejas y un factor constante.\n",
        "\n",
        "- Las raices del numerador son llamadas *ceros* mientras que las raices del denominador son llamadas *polos* de $X(s)$. Las representaciones polinomiales y de ceros y polos son equivalentes:\n",
        "\n",
        "\\begin{equation}\n",
        "X(s) = \\frac{\\sum_{m=0}^{M} \\beta_m s^m}{\\sum_{n=0}^{N} \\alpha_n s^n} = K \\cdot \\frac{\\prod_{\\mu=0}^{Q} (s - s_{0 \\mu})}{\\prod_{\\nu=0}^{P} (s - s_{\\infty \\nu})}\n",
        "\\end{equation}\n",
        "donde $M$ y $N$ son el orden de los polinomios del numerador y denominador respectivamente, $s_{0 \\mu}$ representa el $\\mu$-th cero y $s_{\\infty \\nu}$ el $\\nu$-th polo de $X(s)$, $Q = M-1$ y $P = N-1$ son el número total de ceros y polos respectivamente.\n",
        "\n",
        "- Para $M=N$ el factor $K = \\frac{\\beta_M}{\\alpha_N}$. Si $M > N$, hay por lo menos un polo ubicado en $|s| = \\infty$.\n",
        "\n",
        "- Es común ilustrar los polos y los ceros en un [gráfico de polos y ceros](https://en.wikipedia.org/wiki/Pole%E2%80%93zero_plot), donde la ubicación de los polos y ceros complejos, sus ángulos y el factor $K$ son graficados en el plano $s$:\n",
        "\n",
        "![Ilustración de los polos y ceros en un gráfico de polos y ceros](https://github.com/amalvarezme/SenalesSistemas/blob/master/4_Transformada_Laplace/pz_plot.png?raw=1)\n",
        "\n",
        "- Las ubicaciones de los polos y ceros proporcionan información sobre la composición de una señal. Por ejemplo, la transformada de Laplace de una señal exponencial compleja tiene un polo en $s = - s_0$.\n",
        "\n",
        "- Una señal que se compone de una superposición de señales exponenciales complejas tendrá múltiples polos cuyas posiciones están relacionadas con las frecuencias complejas de las que se compone."
      ]
    },
    {
      "cell_type": "markdown",
      "metadata": {
        "id": "y5UcRZL23Y5_"
      },
      "source": [
        "**Ejercicio**\n",
        "\n",
        "* Obtenga $X(s)$ junto con su ROC de la anterior gráfica de polos y ceros."
      ]
    },
    {
      "cell_type": "code",
      "source": [
        "#Al analizar la gráfica se puede observar que el sistema tiene dos polos y un cero\n",
        "import sympy as sp\n",
        "\n",
        "s = sp.symbols('s') #Se define la variable s como simbólica para efectos de cálculos\n",
        "\n",
        "p1 = -1 + 1j #polo 1\n",
        "p2 = -1 - 1j #polo 2\n",
        "z = 0 #Ceros\n",
        "K=2 #Factor de ganancia\n",
        "\n",
        "R_s = sp.expand((s - p1) * (s - p2)) #Denominador de la función X(s)\n",
        "\n",
        "Y_s = (s - z) #Numerador de la función X(s)\n",
        "\n",
        "X_s = K * Y_s / R_s #Se obtiene la fución compleja de Laplace\n",
        "\n",
        "print(\"X(s) =\",X_s)"
      ],
      "metadata": {
        "id": "9fuXaICnYBFC",
        "colab": {
          "base_uri": "https://localhost:8080/"
        },
        "outputId": "224fc3f8-4fbd-4742-c645-9e71c41c62b3"
      },
      "execution_count": 29,
      "outputs": [
        {
          "output_type": "stream",
          "name": "stdout",
          "text": [
            "X(s) = 2*s/(s**2 + 2.0*s + 2.0)\n"
          ]
        }
      ]
    },
    {
      "cell_type": "markdown",
      "source": [
        "El numerador de esta expresion se puede escribir como [(s + 1)^2 + 1] y se puede notar que el término (s + 1)^2 siempre será mayor o igual a cero, por lo tanto no puede tener raíces reales (Se puede corroborar en la gráfica que sus polos son complejos), entonces se puede decir que el ROC es todo el plano complejo\n",
        "\n",
        "ROC = {s ∈ C}"
      ],
      "metadata": {
        "id": "oSf_ZlN0rVHU"
      }
    },
    {
      "cell_type": "code",
      "source": [],
      "metadata": {
        "id": "kyxzL9mVv7Rn"
      },
      "execution_count": null,
      "outputs": []
    }
  ]
}