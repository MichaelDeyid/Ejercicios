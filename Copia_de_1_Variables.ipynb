{
  "nbformat": 4,
  "nbformat_minor": 0,
  "metadata": {
    "colab": {
      "provenance": [],
      "include_colab_link": true
    },
    "kernelspec": {
      "name": "python3",
      "display_name": "Python 3"
    },
    "language_info": {
      "name": "python"
    }
  },
  "cells": [
    {
      "cell_type": "markdown",
      "metadata": {
        "id": "view-in-github",
        "colab_type": "text"
      },
      "source": [
        "<a href=\"https://colab.research.google.com/github/MichaelDeyid/Ejercicios/blob/main/Copia_de_1_Variables.ipynb\" target=\"_parent\"><img src=\"https://colab.research.google.com/assets/colab-badge.svg\" alt=\"Open In Colab\"/></a>"
      ]
    },
    {
      "cell_type": "markdown",
      "source": [
        "# Ejercicios"
      ],
      "metadata": {
        "id": "KwVZg5xFJJUU"
      }
    },
    {
      "cell_type": "markdown",
      "source": [
        "\n",
        "1. Write a program that displays the result of the following arithmetic operation on the screen: $x(t) = \\left(\\frac{3+2}{2.5}\\right)^2$\n",
        "\n",
        "2. Write a program that asks the user for the number of hours worked and the hourly rate. Then, it should display on the screen the corresponding payment.\n",
        "\n",
        "3. Write a program that asks the user for their weight (in kg) and height (in meters), calculates the body mass index (BMI), stores it in a variable, and displays the message \"Your body mass index is imc\" on the screen, where imc is the calculated BMI rounded to two decimal places."
      ],
      "metadata": {
        "id": "96blkWptzDmu"
      }
    },
    {
      "cell_type": "markdown",
      "source": [
        "## solución"
      ],
      "metadata": {
        "id": "fe0JX6B0TEjG"
      }
    },
    {
      "cell_type": "code",
      "source": [
        "x=((3+2)/2.5)**2\n",
        "print(x)\n"
      ],
      "metadata": {
        "id": "KrvH3nWcP9iz",
        "outputId": "6061a728-7319-4fd1-9c21-fcdea25815b7",
        "colab": {
          "base_uri": "https://localhost:8080/"
        }
      },
      "execution_count": null,
      "outputs": [
        {
          "output_type": "stream",
          "name": "stdout",
          "text": [
            "4.0\n"
          ]
        }
      ]
    },
    {
      "cell_type": "code",
      "source": [
        "n=float(input(\"ingrese el número de horas que trabaja\"))\n",
        "tarifa_por_hora= float(input(\"ingrese la tarifa por hora a pagar\"))\n",
        "x=n*tarifa_por_hora\n",
        "print(\"su pago correspondiente es\",x)"
      ],
      "metadata": {
        "id": "HBomsuIxQi_a",
        "outputId": "b4c271a9-1e2f-478d-e7c1-388adef191ba",
        "colab": {
          "base_uri": "https://localhost:8080/"
        }
      },
      "execution_count": null,
      "outputs": [
        {
          "output_type": "stream",
          "name": "stdout",
          "text": [
            "ingrese el número de horas que trabaja2\n",
            "ingrese la tarifa por hora a pagar4\n",
            "su pago correspondiente es 8.0\n"
          ]
        }
      ]
    },
    {
      "cell_type": "code",
      "source": [
        "m= float(input(\"ingrese su peso en kg\"))\n",
        "g= float(input(\"ingrese su altura en m\"))\n",
        "imc=round(m/(g**2),2)\n",
        "print(\"Su índice de masa corporal es\",imc)"
      ],
      "metadata": {
        "id": "Ed0faKMYRrka",
        "outputId": "81055ff2-9765-4027-9af6-77b3281a15e1",
        "colab": {
          "base_uri": "https://localhost:8080/"
        }
      },
      "execution_count": null,
      "outputs": [
        {
          "output_type": "stream",
          "name": "stdout",
          "text": [
            "ingrese su peso en kg100\n",
            "ingrese su altura en m1.80\n",
            "Su índice de masa corporal es 30.86\n"
          ]
        }
      ]
    },
    {
      "cell_type": "markdown",
      "source": [
        "Developed by:\n",
        "\n",
        "- Michael Deyvid Estacio Ramirez - mestacior@unal.edu.co"
      ],
      "metadata": {
        "id": "pwWLNV4zz5di"
      }
    }
  ]
}