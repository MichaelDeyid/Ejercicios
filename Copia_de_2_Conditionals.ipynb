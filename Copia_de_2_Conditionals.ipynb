{
  "nbformat": 4,
  "nbformat_minor": 0,
  "metadata": {
    "colab": {
      "provenance": [],
      "toc_visible": true,
      "include_colab_link": true
    },
    "kernelspec": {
      "name": "python3",
      "display_name": "Python 3"
    },
    "language_info": {
      "name": "python"
    }
  },
  "cells": [
    {
      "cell_type": "markdown",
      "metadata": {
        "id": "view-in-github",
        "colab_type": "text"
      },
      "source": [
        "<a href=\"https://colab.research.google.com/github/MichaelDeyid/Ejercicios/blob/main/Copia_de_2_Conditionals.ipynb\" target=\"_parent\"><img src=\"https://colab.research.google.com/assets/colab-badge.svg\" alt=\"Open In Colab\"/></a>"
      ]
    },
    {
      "cell_type": "markdown",
      "source": [
        "\n",
        "## Exercises:\n",
        "\n",
        "1. In order to pay a certain tax, you must be over 16 years old and have a monthly income equal to or greater than €1000. Write a program that asks the user for their age and monthly income, and displays whether the user has to pay the tax or not.\n",
        "\n",
        "\n",
        "2. The Bella Napoli pizzeria offers vegetarian and non-vegetarian pizzas to its customers. The ingredients for each type of pizza are as follows:\n",
        "\n",
        "Vegetarian ingredients: Bell peppers and tofu.\n",
        "\n",
        "Non-vegetarian ingredients: Pepperoni, Ham, and Salmon.\n",
        "\n",
        "Write a program that asks the user if they want a vegetarian pizza or not, and based on their response, displays a menu with the available ingredients for them to choose from. Only one additional ingredient can be chosen besides the mozzarella and tomato, which are included in all pizzas. Finally, the program should display whether the chosen pizza is vegetarian or not, along with all the ingredients it contains."
      ],
      "metadata": {
        "id": "z4CBz3YwPxps"
      }
    },
    {
      "cell_type": "code",
      "source": [
        "x=int(input(\"ingrese su edad  \"))\n",
        "s=float(input(\"ingrese sus impuestos mensuales \"))\n",
        "if x>16 and s>= 1000:\n",
        "  print(\"el usuario debe pagar el impuesto\")\n",
        "else:\n",
        "  print(\"el usuario no debe pagar el impuesto\")"
      ],
      "metadata": {
        "id": "Cbacbf0-T_0z",
        "outputId": "7da4196d-1265-446c-8c38-8638ee4ee357",
        "colab": {
          "base_uri": "https://localhost:8080/"
        }
      },
      "execution_count": null,
      "outputs": [
        {
          "output_type": "stream",
          "name": "stdout",
          "text": [
            "ingrese su edad  16\n",
            "ingrese sus impuestos mensuales 1000\n",
            "el usuario no debe pagar el impuesto\n"
          ]
        }
      ]
    },
    {
      "cell_type": "code",
      "source": [
        "z = input(\"¿Quieres una pizza vegetariana? (SI/NO): \")\n",
        "\n",
        "if z == \"SI\":\n",
        "    print(\"Ingredientes vegetarianos disponibles: pimientos y tofu.\")\n",
        "    i = int(input(\"Elige un ingrediente adicional (para pimientos pon : 1 / para tofu pon: 2): \"))\n",
        "    if i == 1 :\n",
        "        print(\"elegiste una pizza vegetariana con mozzarella, tomate y pimientos.\")\n",
        "    elif i == 2 :\n",
        "        print(\"elegiste una pizza vegetariana con mozzarella, tomate y tofu.\")\n",
        "    else:\n",
        "        print(\"Opción de ingrediente no válida.\")\n",
        "\n",
        "elif z == \"NO\":\n",
        "    print(\"Ingredientes no vegetarianos disponibles: pepperoni, jamón y salmón.\")\n",
        "    i = int(input(\"Elige un ingrediente adicional (para pepperoni pon 1/para jamón pon 2/para salmón pon 3): \"))\n",
        "    if i == 1:\n",
        "        print(\"elegiste una pizza no vegetariana con mozzarella, tomate y pepperoni.\")\n",
        "    elif i == 2:\n",
        "        print(\"elegiste una pizza no vegetariana con mozzarella, tomate y jamón.\")\n",
        "    elif i == 3:\n",
        "        print(\"elegiste una pizza no vegetariana con mozzarella, tomate y salmón.\")\n",
        "    else:\n",
        "        print(\"Opción de ingrediente no válida.\")"
      ],
      "metadata": {
        "id": "tJIojnYeV6Aj",
        "outputId": "b7f30ae7-ef91-44a9-c555-66f33dd238a3",
        "colab": {
          "base_uri": "https://localhost:8080/"
        }
      },
      "execution_count": 5,
      "outputs": [
        {
          "output_type": "stream",
          "name": "stdout",
          "text": [
            "¿Quieres una pizza vegetariana? (SI/NO): NO\n",
            "Ingredientes no vegetarianos disponibles: pepperoni, jamón y salmón.\n",
            "Elige un ingrediente adicional (para pepperoni pon 1/para jamón pon 2/para salmón pon 3): 2\n",
            "elegiste una pizza no vegetariana con mozzarella, tomate y jamón.\n"
          ]
        }
      ]
    },
    {
      "cell_type": "markdown",
      "source": [
        "Developed by:\n",
        "\n",
        "- Michael Deyvid Estacio Ramirez - mestacior@unal.edu.co"
      ],
      "metadata": {
        "id": "QQg2r04O174w"
      }
    }
  ]
}